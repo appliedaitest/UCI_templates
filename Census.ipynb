{
 "cells": [
  {
   "cell_type": "markdown",
   "metadata": {
    "colab_type": "text",
    "id": "view-in-github"
   },
   "source": [
    "<a href=\"https://colab.research.google.com/github/appliedaitest/UCI_templates/blob/main/Adults.ipynb\" target=\"_parent\"><img src=\"https://colab.research.google.com/assets/colab-badge.svg\" alt=\"Open In Colab\"/></a>"
   ]
  },
  {
   "cell_type": "markdown",
   "metadata": {
    "id": "MAwwF-AjuANR"
   },
   "source": [
    "# Welcome - Census assessment\n",
    "\n",
    "These 2 files are based on census data (data of people). You will find 2 types of people: ZXR AND JPM. Both types are discriminated by the column \"id\". Examples: \n",
    "\n",
    "id = ZXR-1500: Belong to an ZXR person.\n",
    "\n",
    "id = JPM-1800: Belong to an JPM person.\n",
    "\n",
    "\n",
    "The idea is Predict whether the income (for ZXR people) exceeds $50K/yr. GOOD LUCK!!\n",
    "\n",
    "---\n",
    "\n",
    "\n",
    "Take in consideration the header (name of columns) in each file is the following:\n",
    "\n",
    "\n",
    "\n",
    "**In the “demographics” file (ZXR people - All the population):**\n",
    "\n",
    "\n",
    "1- id : Id of the record.\n",
    "\n",
    "2- age: Age of a person.\n",
    "\n",
    "3- type_work: Employment status of a person.\n",
    "\n",
    "4- study: Highest level education achieved by a person.\n",
    "\n",
    "5- study_coded: Numerical form of education field.\n",
    "\n",
    "6- Marital_status: Marital status of a person.\n",
    "\n",
    "7- activity: Occupation of a person.\n",
    "\n",
    "8- type_relationship: Represents what this person is relative to others.\n",
    "\n",
    "9- ethnic_group: Represents the person’s race. \n",
    "\n",
    "10- biological_sex: Represents the sex of a person.\n",
    "\n",
    "\n",
    "\n",
    " \n",
    "\n",
    "**In the “income” file (ZXR AND JPM people - part of the population):**\n",
    "\n",
    "\n",
    "\n",
    "1- id: Id of the record.\n",
    "\n",
    "2- savings: Represents the reported savings by a person.\n",
    "\n",
    "3- capital-gain: Profit that results from the sale of capital assets (It doesn't take consideration salaries or wages).\n",
    "\n",
    "4- capital_loss: Loss that results from the sale of capital assets (It doesn't take consideration salaries or wages).\n",
    "\n",
    "5- number_hours: The number of hours reported by a person.\n",
    "\n",
    "6- country: Native country for a person.\n",
    "\n",
    "7- target: Whether or not the income of a person is greater than USD 50000 (annually).\n",
    "\n",
    "\n",
    "\n",
    "\n",
    "\n"
   ]
  },
  {
   "cell_type": "markdown",
   "metadata": {
    "id": "BkPs95X-uFrA"
   },
   "source": [
    "## Setup\n",
    "\n",
    "Run all the below"
   ]
  },
  {
   "cell_type": "code",
   "execution_count": 3,
   "metadata": {
    "id": "o97XPieIst6K"
   },
   "outputs": [],
   "source": [
    "## You can install libraries here\n",
    "# !pip install requests\n",
    "# !pip install pandas\n",
    "# !pip install scikit-learn"
   ]
  },
  {
   "cell_type": "code",
   "execution_count": 7,
   "metadata": {
    "colab": {
     "base_uri": "https://localhost:8080/"
    },
    "id": "0TbkCmAhs2D-",
    "outputId": "32290967-ec5c-4fd2-feac-2e8ca02296f2"
   },
   "outputs": [
    {
     "name": "stdout",
     "output_type": "stream",
     "text": [
      "df_demo_zxr.shape:  (32560, 10)\n"
     ]
    }
   ],
   "source": [
    "import pandas as pd\n",
    "\n",
    "\n",
    "df_demo_zxr = pd.read_csv(\n",
    "    'https://raw.githubusercontent.com/appliedaitest/UCI_templates/main/demographics_test.csv', \n",
    "    index_col = [0]\n",
    ")\n",
    "print(\"df_demo_zxr.shape: \",df_demo_zxr.shape)\n"
   ]
  },
  {
   "cell_type": "code",
   "execution_count": null,
   "metadata": {},
   "outputs": [],
   "source": [
    "df_income_zxr_jpm = pd.read_csv(\n",
    "    'https://raw.githubusercontent.com/appliedaitest/UCI_templates/main/income_test.csv', \n",
    "    index_col = [0]\n",
    ")\n",
    "\n",
    "print(\"df_income_zxr_jpm.shape: \",df_income_zxr_jpm.shape)"
   ]
  },
  {
   "cell_type": "markdown",
   "metadata": {
    "id": "IjAp1SnOuKn5"
   },
   "source": [
    "# Go"
   ]
  },
  {
   "cell_type": "code",
   "execution_count": 10,
   "metadata": {},
   "outputs": [
    {
     "data": {
      "text/html": [
       "<div>\n",
       "<style scoped>\n",
       "    .dataframe tbody tr th:only-of-type {\n",
       "        vertical-align: middle;\n",
       "    }\n",
       "\n",
       "    .dataframe tbody tr th {\n",
       "        vertical-align: top;\n",
       "    }\n",
       "\n",
       "    .dataframe thead th {\n",
       "        text-align: right;\n",
       "    }\n",
       "</style>\n",
       "<table border=\"1\" class=\"dataframe\">\n",
       "  <thead>\n",
       "    <tr style=\"text-align: right;\">\n",
       "      <th></th>\n",
       "      <th>id</th>\n",
       "      <th>age</th>\n",
       "      <th>type_work</th>\n",
       "      <th>study</th>\n",
       "      <th>study_coded</th>\n",
       "      <th>Marital_status</th>\n",
       "      <th>activity</th>\n",
       "      <th>type_relationship</th>\n",
       "      <th>ethnic_group</th>\n",
       "      <th>biological_sex</th>\n",
       "    </tr>\n",
       "  </thead>\n",
       "  <tbody>\n",
       "    <tr>\n",
       "      <th>0</th>\n",
       "      <td>ZXR1500</td>\n",
       "      <td>50.0</td>\n",
       "      <td>NaN</td>\n",
       "      <td>Bachelors</td>\n",
       "      <td>13</td>\n",
       "      <td>Married-civ-spouse</td>\n",
       "      <td>Exec-managerial</td>\n",
       "      <td>Husband</td>\n",
       "      <td>White</td>\n",
       "      <td>Male</td>\n",
       "    </tr>\n",
       "    <tr>\n",
       "      <th>1</th>\n",
       "      <td>ZXR1501</td>\n",
       "      <td>38.0</td>\n",
       "      <td>Private</td>\n",
       "      <td>HS-grad</td>\n",
       "      <td>9</td>\n",
       "      <td>$!@_@!$</td>\n",
       "      <td>Handlers-cleaners</td>\n",
       "      <td>Not-in-family</td>\n",
       "      <td>White</td>\n",
       "      <td>Male</td>\n",
       "    </tr>\n",
       "    <tr>\n",
       "      <th>2</th>\n",
       "      <td>ZXR1502</td>\n",
       "      <td>53.0</td>\n",
       "      <td>Private</td>\n",
       "      <td>11th</td>\n",
       "      <td>7</td>\n",
       "      <td>Married-civ-spouse</td>\n",
       "      <td>Handlers-cleaners</td>\n",
       "      <td>Husband</td>\n",
       "      <td>Black</td>\n",
       "      <td>Male</td>\n",
       "    </tr>\n",
       "    <tr>\n",
       "      <th>3</th>\n",
       "      <td>ZXR1503</td>\n",
       "      <td>28.0</td>\n",
       "      <td>Private</td>\n",
       "      <td>Bachelors</td>\n",
       "      <td>13</td>\n",
       "      <td>Married-civ-spouse</td>\n",
       "      <td>Prof-specialty</td>\n",
       "      <td>Wife</td>\n",
       "      <td>Black</td>\n",
       "      <td>Female</td>\n",
       "    </tr>\n",
       "    <tr>\n",
       "      <th>4</th>\n",
       "      <td>ZXR1504</td>\n",
       "      <td>37.0</td>\n",
       "      <td>Private</td>\n",
       "      <td>Masters</td>\n",
       "      <td>14</td>\n",
       "      <td>Married-civ-spouse</td>\n",
       "      <td>Exec-managerial</td>\n",
       "      <td>Wife</td>\n",
       "      <td>White</td>\n",
       "      <td>Female</td>\n",
       "    </tr>\n",
       "  </tbody>\n",
       "</table>\n",
       "</div>"
      ],
      "text/plain": [
       "        id   age type_work       study  study_coded       Marital_status  \\\n",
       "0  ZXR1500  50.0       NaN   Bachelors           13   Married-civ-spouse   \n",
       "1  ZXR1501  38.0   Private     HS-grad            9              $!@_@!$   \n",
       "2  ZXR1502  53.0   Private        11th            7   Married-civ-spouse   \n",
       "3  ZXR1503  28.0   Private   Bachelors           13   Married-civ-spouse   \n",
       "4  ZXR1504  37.0   Private     Masters           14   Married-civ-spouse   \n",
       "\n",
       "             activity type_relationship ethnic_group biological_sex  \n",
       "0     Exec-managerial           Husband        White           Male  \n",
       "1   Handlers-cleaners     Not-in-family        White           Male  \n",
       "2   Handlers-cleaners           Husband        Black           Male  \n",
       "3      Prof-specialty              Wife        Black         Female  \n",
       "4     Exec-managerial              Wife        White         Female  "
      ]
     },
     "execution_count": 10,
     "metadata": {},
     "output_type": "execute_result"
    }
   ],
   "source": [
    "df_demo_zxr.head()"
   ]
  },
  {
   "cell_type": "code",
   "execution_count": 9,
   "metadata": {
    "colab": {
     "base_uri": "https://localhost:8080/",
     "height": 204
    },
    "id": "ZHI4u-7qtIat",
    "outputId": "0d2b8ff4-9c42-412e-8266-431a78be4af2"
   },
   "outputs": [
    {
     "data": {
      "text/html": [
       "<div>\n",
       "<style scoped>\n",
       "    .dataframe tbody tr th:only-of-type {\n",
       "        vertical-align: middle;\n",
       "    }\n",
       "\n",
       "    .dataframe tbody tr th {\n",
       "        vertical-align: top;\n",
       "    }\n",
       "\n",
       "    .dataframe thead th {\n",
       "        text-align: right;\n",
       "    }\n",
       "</style>\n",
       "<table border=\"1\" class=\"dataframe\">\n",
       "  <thead>\n",
       "    <tr style=\"text-align: right;\">\n",
       "      <th></th>\n",
       "      <th>id</th>\n",
       "      <th>age</th>\n",
       "      <th>type_work</th>\n",
       "      <th>study</th>\n",
       "      <th>study_coded</th>\n",
       "      <th>Marital_status</th>\n",
       "      <th>activity</th>\n",
       "      <th>type_relationship</th>\n",
       "      <th>ethnic_group</th>\n",
       "      <th>biological_sex</th>\n",
       "    </tr>\n",
       "  </thead>\n",
       "  <tbody>\n",
       "    <tr>\n",
       "      <th>0</th>\n",
       "      <td>ZXR1500</td>\n",
       "      <td>50.0</td>\n",
       "      <td>NaN</td>\n",
       "      <td>Bachelors</td>\n",
       "      <td>13</td>\n",
       "      <td>Married-civ-spouse</td>\n",
       "      <td>Exec-managerial</td>\n",
       "      <td>Husband</td>\n",
       "      <td>White</td>\n",
       "      <td>Male</td>\n",
       "    </tr>\n",
       "    <tr>\n",
       "      <th>1</th>\n",
       "      <td>ZXR1501</td>\n",
       "      <td>38.0</td>\n",
       "      <td>Private</td>\n",
       "      <td>HS-grad</td>\n",
       "      <td>9</td>\n",
       "      <td>$!@_@!$</td>\n",
       "      <td>Handlers-cleaners</td>\n",
       "      <td>Not-in-family</td>\n",
       "      <td>White</td>\n",
       "      <td>Male</td>\n",
       "    </tr>\n",
       "    <tr>\n",
       "      <th>2</th>\n",
       "      <td>ZXR1502</td>\n",
       "      <td>53.0</td>\n",
       "      <td>Private</td>\n",
       "      <td>11th</td>\n",
       "      <td>7</td>\n",
       "      <td>Married-civ-spouse</td>\n",
       "      <td>Handlers-cleaners</td>\n",
       "      <td>Husband</td>\n",
       "      <td>Black</td>\n",
       "      <td>Male</td>\n",
       "    </tr>\n",
       "    <tr>\n",
       "      <th>3</th>\n",
       "      <td>ZXR1503</td>\n",
       "      <td>28.0</td>\n",
       "      <td>Private</td>\n",
       "      <td>Bachelors</td>\n",
       "      <td>13</td>\n",
       "      <td>Married-civ-spouse</td>\n",
       "      <td>Prof-specialty</td>\n",
       "      <td>Wife</td>\n",
       "      <td>Black</td>\n",
       "      <td>Female</td>\n",
       "    </tr>\n",
       "    <tr>\n",
       "      <th>4</th>\n",
       "      <td>ZXR1504</td>\n",
       "      <td>37.0</td>\n",
       "      <td>Private</td>\n",
       "      <td>Masters</td>\n",
       "      <td>14</td>\n",
       "      <td>Married-civ-spouse</td>\n",
       "      <td>Exec-managerial</td>\n",
       "      <td>Wife</td>\n",
       "      <td>White</td>\n",
       "      <td>Female</td>\n",
       "    </tr>\n",
       "  </tbody>\n",
       "</table>\n",
       "</div>"
      ],
      "text/plain": [
       "        id   age type_work       study  study_coded       Marital_status  \\\n",
       "0  ZXR1500  50.0       NaN   Bachelors           13   Married-civ-spouse   \n",
       "1  ZXR1501  38.0   Private     HS-grad            9              $!@_@!$   \n",
       "2  ZXR1502  53.0   Private        11th            7   Married-civ-spouse   \n",
       "3  ZXR1503  28.0   Private   Bachelors           13   Married-civ-spouse   \n",
       "4  ZXR1504  37.0   Private     Masters           14   Married-civ-spouse   \n",
       "\n",
       "             activity type_relationship ethnic_group biological_sex  \n",
       "0     Exec-managerial           Husband        White           Male  \n",
       "1   Handlers-cleaners     Not-in-family        White           Male  \n",
       "2   Handlers-cleaners           Husband        Black           Male  \n",
       "3      Prof-specialty              Wife        Black         Female  \n",
       "4     Exec-managerial              Wife        White         Female  "
      ]
     },
     "execution_count": 9,
     "metadata": {},
     "output_type": "execute_result"
    }
   ],
   "source": [
    "df_income_zxr_jpm.head()"
   ]
  },
  {
   "cell_type": "code",
   "execution_count": null,
   "metadata": {
    "id": "3XuJPABetS1k"
   },
   "outputs": [],
   "source": []
  }
 ],
 "metadata": {
  "colab": {
   "name": "Adults.ipynb",
   "provenance": []
  },
  "kernelspec": {
   "display_name": "Python 3",
   "language": "python",
   "name": "python3"
  },
  "language_info": {
   "codemirror_mode": {
    "name": "ipython",
    "version": 3
   },
   "file_extension": ".py",
   "mimetype": "text/x-python",
   "name": "python",
   "nbconvert_exporter": "python",
   "pygments_lexer": "ipython3",
   "version": "3.8.8"
  }
 },
 "nbformat": 4,
 "nbformat_minor": 1
}
