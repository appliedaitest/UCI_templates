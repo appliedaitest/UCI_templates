{
  "nbformat": 4,
  "nbformat_minor": 0,
  "metadata": {
    "colab": {
      "name": "Bank.ipynb",
      "provenance": [],
      "collapsed_sections": []
    },
    "kernelspec": {
      "name": "python3",
      "display_name": "Python 3"
    }
  },
  "cells": [
    {
      "cell_type": "markdown",
      "metadata": {
        "id": "view-in-github",
        "colab_type": "text"
      },
      "source": [
        "<a href=\"https://colab.research.google.com/github/appliedaitest/UCI_templates/blob/main/Bank.ipynb\" target=\"_parent\"><img src=\"https://colab.research.google.com/assets/colab-badge.svg\" alt=\"Open In Colab\"/></a>"
      ]
    }, 
    {
      "cell_type": "markdown",
      "metadata": {
        "id": "MAwwF-AjuANR"
      },
      "source": [
        "# Welcome - Bank assessment\n",
        "\n",
        "The data you will load is related with direct marketing phonecalls campaigns of a Portuguese banking institution.\n",
        "\n",
        "The idea is to build a classification model to predict if the client will  subscribe a term deposit ( variable: y ). \n",
        "\n",
        "Please be aware that final dataset is a Pandas Dataframe named final_df and it has 41188 rows and 15 columns. GOOD LUCK !\n",
        "\n",
        "---\n",
        "\n",
        "Attribute Information:\n",
        "\n",
        "1 - age (numeric)\n",
        "\n",
        "2 - job : type of job (categorical: 'admin.','blue-collar','entrepreneur','housemaid','management','retired','self-employed','services','student','technician','unemployed','unknown')\n",
        "\n",
        "3 - marital : marital status (categorical: 'divorced','married','single','unknown'; note: 'divorced' means divorced or widowed)\n",
        "\n",
        "4 - education (categorical: 'basic.4y','basic.6y','basic.9y','high.school','illiterate','professional.course','university.degree','unknown')\n",
        "\n",
        "5 - default: has credit in default? (categorical: 'no','yes','unknown')\n",
        "\n",
        "6 - housing: has housing loan? (categorical: 'no','yes','unknown')\n",
        "\n",
        "7 - loan: has personal loan? (categorical: 'no','yes','unknown')\n",
        "\n",
        "\n",
        "**related with the last contact of the current campaign:**\n",
        "\n",
        "8 - contact: contact communication type (categorical: 'cellular','telephone')\n",
        "\n",
        "9 - month: last contact month of year (categorical: 'jan', 'feb', 'mar', ..., 'nov', 'dec')\n",
        "\n",
        "10 - day_of_week: last contact day of the week (categorical: 'mon','tue','wed','thu','fri')\n",
        "\n",
        "11 - duration: last contact duration, in seconds (numeric).\n",
        "\n",
        "**other attributes:**\n",
        "\n",
        "12 - campaign: number of contacts performed during this campaign and for this client (numeric, includes last contact)\n",
        "\n",
        "13 - pdays: number of days that passed by after the client was last contacted from a previous campaign (numeric; 999 means client was not previously contacted)\n",
        "\n",
        "14 - previous: number of contacts performed before this campaign and for this client (numeric)\n",
        "\n",
        "15 - poutcome: outcome of the previous marketing campaign (categorical: 'failure','nonexistent','success')\n",
        "\n",
        "**social and economic context attributes**\n",
        "\n",
        "16 - emp.var.rate: employment variation rate - quarterly indicator (numeric)\n",
        "\n",
        "17 - cons.price.idx: consumer price index - monthly indicator (numeric)\n",
        "\n",
        "18 - cons.conf.idx: consumer confidence index - monthly indicator (numeric)\n",
        "\n",
        "19 - euribor3m: euribor 3 month rate - daily indicator (numeric)\n",
        "\n",
        "20 - nr.employed: number of employees - quarterly indicator (numeric)\n",
        "\n",
        "**Output variable (desired target):**\n",
        "\n",
        "21 - y - has the client subscribed a term deposit? (binary: 'yes','no')\n"
      ]
    },
    {
      "cell_type": "markdown",
      "metadata": {
        "id": "BkPs95X-uFrA"
      },
      "source": [
        "## Setup\n",
        "\n",
        "Run all the below"
      ]
    },
    {
      "cell_type": "code",
      "metadata": {
        "id": "o97XPieIst6K"
      },
      "source": [
        "## You can install libraries here\n",
        "# !pip install requests\n",
        "# !pip install pandas\n",
        "# !pip install scikit-learn"
      ],
      "execution_count": 1,
      "outputs": []
    },
    {
      "cell_type": "code",
      "metadata": {
        "colab": {
          "base_uri": "https://localhost:8080/"
        },
        "id": "gGffYbafamOw",
        "outputId": "6006f412-9d29-4192-fa95-0851df6c1147"
      },
      "source": [
        "!wget https://archive.ics.uci.edu/ml/machine-learning-databases/00222/bank-additional.zip\n",
        "!unzip bank-additional.zip\n",
        "!ls bank-additional/*.csv"
      ],
      "execution_count": 2,
      "outputs": [
        {
          "output_type": "stream",
          "text": [
            "--2021-03-19 03:03:49--  https://archive.ics.uci.edu/ml/machine-learning-databases/00222/bank-additional.zip\n",
            "Resolving archive.ics.uci.edu (archive.ics.uci.edu)... 128.195.10.252\n",
            "Connecting to archive.ics.uci.edu (archive.ics.uci.edu)|128.195.10.252|:443... connected.\n",
            "HTTP request sent, awaiting response... 200 OK\n",
            "Length: 444572 (434K) [application/x-httpd-php]\n",
            "Saving to: ‘bank-additional.zip’\n",
            "\n",
            "bank-additional.zip 100%[===================>] 434.15K   663KB/s    in 0.7s    \n",
            "\n",
            "2021-03-19 03:03:50 (663 KB/s) - ‘bank-additional.zip’ saved [444572/444572]\n",
            "\n",
            "Archive:  bank-additional.zip\n",
            "   creating: bank-additional/\n",
            "  inflating: bank-additional/.DS_Store  \n",
            "   creating: __MACOSX/\n",
            "   creating: __MACOSX/bank-additional/\n",
            "  inflating: __MACOSX/bank-additional/._.DS_Store  \n",
            "  inflating: bank-additional/.Rhistory  \n",
            "  inflating: bank-additional/bank-additional-full.csv  \n",
            "  inflating: bank-additional/bank-additional-names.txt  \n",
            "  inflating: bank-additional/bank-additional.csv  \n",
            "  inflating: __MACOSX/._bank-additional  \n",
            "bank-additional/bank-additional.csv  bank-additional/bank-additional-full.csv\n"
          ],
          "name": "stdout"
        }
      ]
    },
    {
      "cell_type": "code",
      "metadata": {
        "id": "0TbkCmAhs2D-",
        "colab": {
          "base_uri": "https://localhost:8080/"
        },
        "outputId": "92189527-7965-4aef-cb58-ed946747452c"
      },
      "source": [
        "import pandas as pd\n",
        "\n",
        "original_df = pd.read_csv( \"./bank-additional/bank-additional-full.csv\", sep= \";\")\n",
        "print (\"original_df.shape: \", original_df.shape)  \n",
        "\n",
        "selected_cols = ['age', 'marital', 'default', 'housing', 'loan', \n",
        "                 'duration', 'campaign', 'pdays', 'previous', \n",
        "                 'emp.var.rate', 'cons.price.idx', 'cons.conf.idx', 'euribor3m',\n",
        "                 'nr.employed', 'y']\n",
        "\n",
        "final_df =  original_df.loc[:, selected_cols]\n",
        "print(\"final_df.shape: \",final_df.shape) #print(final_df.dtypes)"
      ],
      "execution_count": 3,
      "outputs": [
        {
          "output_type": "stream",
          "text": [
            "original_df.shape:  (41188, 21)\n",
            "final_df.shape:  (41188, 15)\n"
          ],
          "name": "stdout"
        }
      ]
    },
    {
      "cell_type": "markdown",
      "metadata": {
        "id": "IjAp1SnOuKn5"
      },
      "source": [
        "# Go"
      ]
    },
    {
      "cell_type": "code",
      "metadata": {
        "colab": {
          "base_uri": "https://localhost:8080/",
          "height": 204
        },
        "id": "ZHI4u-7qtIat",
        "outputId": "7040f217-b62d-4385-8de5-e459426c3b76"
      },
      "source": [
        "final_df.head()"
      ],
      "execution_count": 4,
      "outputs": [
        {
          "output_type": "execute_result",
          "data": {
            "text/html": [
              "<div>\n",
              "<style scoped>\n",
              "    .dataframe tbody tr th:only-of-type {\n",
              "        vertical-align: middle;\n",
              "    }\n",
              "\n",
              "    .dataframe tbody tr th {\n",
              "        vertical-align: top;\n",
              "    }\n",
              "\n",
              "    .dataframe thead th {\n",
              "        text-align: right;\n",
              "    }\n",
              "</style>\n",
              "<table border=\"1\" class=\"dataframe\">\n",
              "  <thead>\n",
              "    <tr style=\"text-align: right;\">\n",
              "      <th></th>\n",
              "      <th>age</th>\n",
              "      <th>marital</th>\n",
              "      <th>default</th>\n",
              "      <th>housing</th>\n",
              "      <th>loan</th>\n",
              "      <th>duration</th>\n",
              "      <th>campaign</th>\n",
              "      <th>pdays</th>\n",
              "      <th>previous</th>\n",
              "      <th>emp.var.rate</th>\n",
              "      <th>cons.price.idx</th>\n",
              "      <th>cons.conf.idx</th>\n",
              "      <th>euribor3m</th>\n",
              "      <th>nr.employed</th>\n",
              "      <th>y</th>\n",
              "    </tr>\n",
              "  </thead>\n",
              "  <tbody>\n",
              "    <tr>\n",
              "      <th>0</th>\n",
              "      <td>56</td>\n",
              "      <td>married</td>\n",
              "      <td>no</td>\n",
              "      <td>no</td>\n",
              "      <td>no</td>\n",
              "      <td>261</td>\n",
              "      <td>1</td>\n",
              "      <td>999</td>\n",
              "      <td>0</td>\n",
              "      <td>1.1</td>\n",
              "      <td>93.994</td>\n",
              "      <td>-36.4</td>\n",
              "      <td>4.857</td>\n",
              "      <td>5191.0</td>\n",
              "      <td>no</td>\n",
              "    </tr>\n",
              "    <tr>\n",
              "      <th>1</th>\n",
              "      <td>57</td>\n",
              "      <td>married</td>\n",
              "      <td>unknown</td>\n",
              "      <td>no</td>\n",
              "      <td>no</td>\n",
              "      <td>149</td>\n",
              "      <td>1</td>\n",
              "      <td>999</td>\n",
              "      <td>0</td>\n",
              "      <td>1.1</td>\n",
              "      <td>93.994</td>\n",
              "      <td>-36.4</td>\n",
              "      <td>4.857</td>\n",
              "      <td>5191.0</td>\n",
              "      <td>no</td>\n",
              "    </tr>\n",
              "    <tr>\n",
              "      <th>2</th>\n",
              "      <td>37</td>\n",
              "      <td>married</td>\n",
              "      <td>no</td>\n",
              "      <td>yes</td>\n",
              "      <td>no</td>\n",
              "      <td>226</td>\n",
              "      <td>1</td>\n",
              "      <td>999</td>\n",
              "      <td>0</td>\n",
              "      <td>1.1</td>\n",
              "      <td>93.994</td>\n",
              "      <td>-36.4</td>\n",
              "      <td>4.857</td>\n",
              "      <td>5191.0</td>\n",
              "      <td>no</td>\n",
              "    </tr>\n",
              "    <tr>\n",
              "      <th>3</th>\n",
              "      <td>40</td>\n",
              "      <td>married</td>\n",
              "      <td>no</td>\n",
              "      <td>no</td>\n",
              "      <td>no</td>\n",
              "      <td>151</td>\n",
              "      <td>1</td>\n",
              "      <td>999</td>\n",
              "      <td>0</td>\n",
              "      <td>1.1</td>\n",
              "      <td>93.994</td>\n",
              "      <td>-36.4</td>\n",
              "      <td>4.857</td>\n",
              "      <td>5191.0</td>\n",
              "      <td>no</td>\n",
              "    </tr>\n",
              "    <tr>\n",
              "      <th>4</th>\n",
              "      <td>56</td>\n",
              "      <td>married</td>\n",
              "      <td>no</td>\n",
              "      <td>no</td>\n",
              "      <td>yes</td>\n",
              "      <td>307</td>\n",
              "      <td>1</td>\n",
              "      <td>999</td>\n",
              "      <td>0</td>\n",
              "      <td>1.1</td>\n",
              "      <td>93.994</td>\n",
              "      <td>-36.4</td>\n",
              "      <td>4.857</td>\n",
              "      <td>5191.0</td>\n",
              "      <td>no</td>\n",
              "    </tr>\n",
              "  </tbody>\n",
              "</table>\n",
              "</div>"
            ],
            "text/plain": [
              "   age  marital  default housing  ... cons.conf.idx  euribor3m  nr.employed   y\n",
              "0   56  married       no      no  ...         -36.4      4.857       5191.0  no\n",
              "1   57  married  unknown      no  ...         -36.4      4.857       5191.0  no\n",
              "2   37  married       no     yes  ...         -36.4      4.857       5191.0  no\n",
              "3   40  married       no      no  ...         -36.4      4.857       5191.0  no\n",
              "4   56  married       no      no  ...         -36.4      4.857       5191.0  no\n",
              "\n",
              "[5 rows x 15 columns]"
            ]
          },
          "metadata": {
            "tags": []
          },
          "execution_count": 4
        }
      ]
    },
    {
      "cell_type": "code",
      "metadata": {
        "id": "3XuJPABetS1k"
      },
      "source": [
        ""
      ],
      "execution_count": 4,
      "outputs": []
    }
  ]
}
